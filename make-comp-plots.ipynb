{
 "cells": [
  {
   "cell_type": "code",
   "execution_count": 26,
   "metadata": {},
   "outputs": [],
   "source": [
    "from bs4 import BeautifulSoup\n",
    "import requests\n",
    "import pandas as pd\n",
    "import re\n",
    "import plotly.graph_objects as go\n",
    "import ipywidgets as widgets\n",
    "from ipywidgets import interact\n",
    "\n",
    "def parse_table(url, timelimit=3600):\n",
    "    \"\"\"\n",
    "    parse a specific table to generate a dictionary with the runtimes and\n",
    "    auxiliary information\n",
    "    \"\"\"\n",
    "    resp = requests.get(url) \n",
    "    soup = BeautifulSoup(resp.text, features=\"html.parser\")\n",
    "    pre = soup.find_all('pre')\n",
    "    \n",
    "    stats = {}\n",
    "    \n",
    "    stats['date'] = pre[0].text.split('\\n')[1].replace('=','').replace('-','').strip()\n",
    "    stats['title'] = pre[0].text.split('\\n')[2].strip()\n",
    "\n",
    "    if url.find('lpsimp') >= 0:\n",
    "        tab = pre[3].text.split('\\n')\n",
    "        _version = pre[2].text.split('\\n')[1:-1]\n",
    "        _version = [x.split()[0].rstrip(':') for x in _version]\n",
    "        _score = tab[3].split()\n",
    "        _solved = tab[4].split()[1:]\n",
    "        solver = tab[6].split()[2:]\n",
    "        stats['solver'] = solver\n",
    "        nprobs = int(tab[6].split()[0])\n",
    "        stats['nprobs'] = nprobs\n",
    "        stats['score'] = {solver[i]:_score[i] for i in range(len(solver))}\n",
    "        stats['solved'] = {solver[i]:_solved[i] for i in range(len(solver))}\n",
    "        stats['version'] = {solver[i]:_version[i] for i in range(len(solver))}\n",
    "        stats['timelimit'] = int(pre[3].text.split('\\n')[-2].split()[1].replace(',',''))\n",
    "        stats['times'] = pd.DataFrame([l.split() for l in tab[8:nprobs+8]], columns=['instance']+solver)\n",
    "\n",
    "    else:\n",
    "        tab = pre[2].text.split('\\n')\n",
    "        tabmark = [ind for ind,i in enumerate(tab) if i.startswith('=====')]\n",
    "        _version = pre[1].text.split('\\n')[1:-1]\n",
    "        _version = [x.split()[0].rstrip(':') for x in _version]\n",
    "        _score = tab[1].split()[1:]\n",
    "        _solved = tab[2].split()[1:]\n",
    "        solver = tab[4].split()[1:]\n",
    "        stats['solver'] = solver\n",
    "        nprobs = len(tab[tabmark[0]+3:tabmark[1]])\n",
    "        stats['nprobs'] = nprobs\n",
    "        stats['score'] = {solver[i]:_score[i] for i in range(len(solver))}\n",
    "        stats['solved'] = {solver[i]:_solved[i] for i in range(len(solver))}\n",
    "        if len(_version) == len(solver):\n",
    "            stats['version'] = {solver[i]:_version[i] for i in range(len(solver))}\n",
    "        else:\n",
    "            stats['version'] = {solver[i]:solver[i] for i in range(len(solver))}\n",
    "        stats['timelimit'] = timelimit\n",
    "        stats['times'] = pd.DataFrame([l.split() for l in tab[tabmark[0]+3:tabmark[1]]], columns=['instance']+solver)\n",
    "        \n",
    "    return stats\n",
    "\n",
    "\n",
    "def plot_benchmark(stats):\n",
    "    \"\"\"\n",
    "    generate an interactive Plotly figure from the given dictionary\n",
    "    \"\"\"\n",
    "    # clean up non-numeric values and replace with timelimit\n",
    "    time = stats['times']\n",
    "    for s in stats['solver']:\n",
    "        time[s] = pd.to_numeric(stats['times'][s], errors='coerce')\n",
    "    time.fillna(value=stats['timelimit'], inplace=True)\n",
    "    fig = go.Figure()\n",
    "\n",
    "    for s in stats['solver']:\n",
    "        fig.add_trace(go.Scatter(x=time['instance'], y=time[s],\n",
    "                        mode='markers',\n",
    "                        name=stats['version'][s]))\n",
    "    fig.update_layout(title=f'{stats[\"title\"]} ({stats[\"date\"]})', yaxis_type=\"log\")\n",
    "    fig.show()\n",
    "    return fig"
   ]
  },
  {
   "cell_type": "code",
   "execution_count": 31,
   "metadata": {},
   "outputs": [],
   "source": [
    "# %debug\n",
    "# stats = parse_table('http://plato.asu.edu/ftp/lpsimp.html')\n",
    "stats = parse_table('http://plato.asu.edu/ftp/qplib.html', 3600)\n",
    "# stats = parse_table('http://plato.asu.edu/ftp/nonbinary.html', 10800)\n",
    "# stats = parse_table('http://plato.asu.edu/ftp/cnconv.html', 10800)\n",
    "# stats = parse_table('http://plato.asu.edu/ftp/convex.html', 7200)\n",
    "# stats = parse_table('http://plato.asu.edu/ftp/cconvex.html', 3600)"
   ]
  },
  {
   "cell_type": "code",
   "execution_count": 38,
   "metadata": {},
   "outputs": [
    {
     "data": {
      "text/plain": [
       "'http://plato.asu.edu/ftp/lpsimp'"
      ]
     },
     "execution_count": 38,
     "metadata": {},
     "output_type": "execute_result"
    }
   ],
   "source": [
    "urls = [('http://plato.asu.edu/ftp/lpsimp.html', 15000),\n",
    "('http://plato.asu.edu/ftp/qplib.html', 3600),\n",
    "('http://plato.asu.edu/ftp/nonbinary.html', 10800),\n",
    "('http://plato.asu.edu/ftp/cnconv.html', 10800),\n",
    "('http://plato.asu.edu/ftp/convex.html', 7200),\n",
    "('http://plato.asu.edu/ftp/cconvex.html', 3600),\n",
    "]\n",
    "urls[0][0][:-5]"
   ]
  },
  {
   "cell_type": "code",
   "execution_count": 32,
   "metadata": {
    "scrolled": false
   },
   "outputs": [
    {
     "data": {
      "application/vnd.jupyter.widget-view+json": {
       "model_id": "8a34143f9c78418a9aceda39ca3704bf",
       "version_major": 2,
       "version_minor": 0
      },
      "text/plain": [
       "interactive(children=(Dropdown(description='Base solver', options=('BARON', 'SCIP', 'ANTIGONE', 'MINOTAUR', 'O…"
      ]
     },
     "metadata": {},
     "output_type": "display_data"
    }
   ],
   "source": [
    "time = stats['times']\n",
    "for s in stats['solver']:\n",
    "    time[s] = pd.to_numeric(stats['times'][s], errors='coerce')\n",
    "\n",
    "    time.fillna(value=stats['timelimit'], inplace=True)\n",
    "\n",
    "comp = widgets.Dropdown(value=stats['solver'][0], options=time.keys().drop('instance'), description='Base solver')\n",
    "\n",
    "@interact(y=comp)\n",
    "def plotit(y):\n",
    "    fig = go.Figure()\n",
    "    for s in time.keys().drop('instance'):\n",
    "        if s == y:\n",
    "            fig.add_trace(go.Scatter(x=time['instance'], y=time[y], mode='markers', name=stats['version'][s]))\n",
    "        else:\n",
    "            fig.add_trace(go.Bar(x=time['instance'], y=time[s]-time[y], name=stats['version'][s], base=0))\n",
    "    \n",
    "    fig.update_layout(title=f'Absolute time differences using {stats[\"version\"][y]} as base solver ({stats[\"date\"]})',\n",
    "                      xaxis=dict(type='category')\n",
    "                     )\n",
    "    return fig"
   ]
  },
  {
   "cell_type": "code",
   "execution_count": null,
   "metadata": {},
   "outputs": [],
   "source": [
    "plots = \"\"\n",
    "\n",
    "plots += f'<h2 id=\"simplex-lp\">Simplex LP ({stats[\"date\"]})</h2>\\n'\n",
    "plots += '<h3>Choose base solver for comparison:<h3>\\n<ul>\\n'\n",
    "\n",
    "for s in time.keys().drop('instance'):\n",
    "    fig = plotit(s)\n",
    "#     fig.show()\n",
    "    fig.write_html(f'docs/{s}.html', include_plotlyjs='cdn')\n",
    "    plots += f'\\t<li><a href={s}.html>{stats[\"version\"][s]}</a></li>\\n'\n",
    "plots += '</ul>\\n'"
   ]
  },
  {
   "cell_type": "code",
   "execution_count": null,
   "metadata": {},
   "outputs": [],
   "source": [
    "top=\"\"\"<!DOCTYPE html>\n",
    "<html lang=\"en-US\">\n",
    "  <head>\n",
    "    <meta charset=\"UTF-8\">\n",
    "    <meta http-equiv=\"X-UA-Compatible\" content=\"IE=edge\">\n",
    "    <meta name=\"viewport\" content=\"width=device-width, initial-scale=1\">\n",
    "\n",
    "<!-- Begin Jekyll SEO tag v2.6.1 -->\n",
    "<title>Visualizations of Mittelmann benchmarks | mittelmann-plots</title>\n",
    "<meta name=\"generator\" content=\"Jekyll v3.8.5\" />\n",
    "<meta property=\"og:title\" content=\"Visualizations of Mittelmann benchmarks\" />\n",
    "<meta property=\"og:locale\" content=\"en_US\" />\n",
    "<meta name=\"description\" content=\"Visualizations of Mittelmann benchmarks\" />\n",
    "<meta property=\"og:description\" content=\"Visualizations of Mittelmann benchmarks\" />\n",
    "<link rel=\"canonical\" href=\"https://mattmilten.github.io/mittelmann-plots/\" />\n",
    "<meta property=\"og:url\" content=\"https://mattmilten.github.io/mittelmann-plots/\" />\n",
    "<meta property=\"og:site_name\" content=\"mittelmann-plots\" />\n",
    "<script type=\"application/ld+json\">\n",
    "{\"@type\":\"WebSite\",\"headline\":\"Visualizations of Mittelmann benchmarks\",\"url\":\"https://github.com/mattmilten/mittelmann-plots\",\"name\":\"mittelmann-plots\",\"description\":\"Visualizations of Mittelmann benchmarks\",\"@context\":\"https://schema.org\"}</script>\n",
    "<!-- End Jekyll SEO tag -->\n",
    "\n",
    "    <link rel=\"stylesheet\" href=\"/mittelmann-plots/assets/css/style.css?v=73b8bebba12f73a6e4f8873242ca033c15630844\">\n",
    "    <script src=\"https://cdn.plot.ly/plotly-latest.min.js\"></script>\n",
    "  </head>\n",
    "  <body>\n",
    "    <div class=\"container-lg px-3 my-5 markdown-body\">\n",
    "      <h1 id=\"visualizations-of-mittelmann-benchmarks\">Visualizations of Mittelmann benchmarks</h1>\n",
    "\n",
    "\"\"\"\n",
    "\n",
    "bottom=\"\"\"\n",
    "      <p>older versions:\n",
    "        <ul>\n",
    "          <li><a href=lpcomp-2020-08-14.html>14 Aug 2020</a></li>\n",
    "        </ul>\n",
    "      </p>\n",
    "\n",
    "      <div class=\"footer border-top border-gray-light mt-5 pt-3 text-right text-gray\">\n",
    "        This site is open source. <a href=\"https://github.com/mattmilten/mittelmann-plots\">Improve this page</a>.\n",
    "      </div>\n",
    "      \n",
    "    </div>\n",
    "    <script src=\"https://cdnjs.cloudflare.com/ajax/libs/anchor-js/4.1.0/anchor.min.js\" integrity=\"sha256-lZaRhKri35AyJSypXXs4o6OPFTbTmUoltBbDCbdzegg=\" crossorigin=\"anonymous\"></script>\n",
    "    <script>anchors.add();</script>\n",
    "    \n",
    "  </body>\n",
    "</html>\n",
    "\"\"\""
   ]
  },
  {
   "cell_type": "code",
   "execution_count": null,
   "metadata": {},
   "outputs": [],
   "source": [
    "with open('docs/index.html', 'w') as index:\n",
    "    index.write(top)\n",
    "    index.write(plots)\n",
    "    index.write(bottom)"
   ]
  }
 ],
 "metadata": {
  "kernelspec": {
   "display_name": "Python 3",
   "language": "python",
   "name": "python3"
  }
 },
 "nbformat": 4,
 "nbformat_minor": 4
}
